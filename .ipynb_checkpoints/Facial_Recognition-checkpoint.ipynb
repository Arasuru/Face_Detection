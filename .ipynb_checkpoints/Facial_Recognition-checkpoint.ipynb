{
 "cells": [
  {
   "cell_type": "code",
   "execution_count": 1,
   "id": "1dd79ab5-fc5c-4c79-92eb-a6dede96e0c4",
   "metadata": {},
   "outputs": [],
   "source": [
    "import numpy as np\n",
    "import matplotlib.pyplot as plt\n",
    "import os\n",
    "import random\n",
    "import cv2"
   ]
  },
  {
   "cell_type": "code",
   "execution_count": null,
   "id": "e54453e7-5b77-4381-995a-28c9e4deb426",
   "metadata": {},
   "outputs": [],
   "source": []
  },
  {
   "cell_type": "code",
   "execution_count": 2,
   "id": "22a6a4fe-87a2-442a-afed-20bf7489c919",
   "metadata": {},
   "outputs": [],
   "source": [
    "from tensorflow.keras.models import Model\n",
    "from tensorflow.keras.layers import Layer, Conv2D, MaxPooling2D, Dense, Flatten, Input\n",
    "import tensorflow as tf\n",
    "#Layer -> gives to create custom layer\n",
    "#Dense -> fully connected layer\n",
    "#Flatten -> convert multidimensional data to 1-D data"
   ]
  },
  {
   "cell_type": "code",
   "execution_count": 3,
   "id": "2cbbb0d3-1476-475e-b8e3-f14b9fa53e5d",
   "metadata": {},
   "outputs": [],
   "source": [
    "POS_PATH = os.path.join('data', 'positive')\n",
    "NEG_PATH = os.path.join('data', 'negative')\n",
    "ANC_PATH = os.path.join('data', 'anchor')"
   ]
  },
  {
   "cell_type": "code",
   "execution_count": 4,
   "id": "35102b3f-1c48-4839-aabc-1caa1d157b3f",
   "metadata": {},
   "outputs": [
    {
     "name": "stdout",
     "output_type": "stream",
     "text": [
      "^C\n"
     ]
    }
   ],
   "source": [
    "#3 data classes anchor, positive and negative\n",
    "#Anchor data is encoded through the model\n",
    "#then implement a distance layer to calculate difference between anchor and positive/negative example\n",
    "#difference between anchor and positive will be close to 1. difference between anchor and negative will be 0.\n",
    "\n",
    "#collecting negative examples\n",
    "!tar -xf lfw.tgz"
   ]
  },
  {
   "cell_type": "code",
   "execution_count": null,
   "id": "ad619d8c-aad3-4012-9bf0-42f3302468ac",
   "metadata": {},
   "outputs": [],
   "source": [
    "#placing the unpacked images from lfw images to data/negative folder\n",
    "for dir in os.listdir('lfw'):\n",
    "    for file in os.listdir(os.path.join('lfw',dir)):\n",
    "        EX_PATH = os.path.join('lfw', dir, file)\n",
    "        NEW_PATH = os.path.join(NEG_PATH, file)\n",
    "        os.replace(EX_PATH, NEW_PATH)"
   ]
  },
  {
   "cell_type": "code",
   "execution_count": 4,
   "id": "8eb57f29-7d2d-484a-aebb-510cd7a27091",
   "metadata": {},
   "outputs": [],
   "source": [
    "#Import uuid to generate unique names\n",
    "import uuid"
   ]
  },
  {
   "cell_type": "code",
   "execution_count": 8,
   "id": "30ca513a-985d-4155-a7f9-444d61878f72",
   "metadata": {},
   "outputs": [],
   "source": [
    "#collecting positive examples through our camera webcam\n",
    "cap = cv2.VideoCapture(0) #Establishing a connection to WEBCAM, parameter is the number that is linked WEBCAM, check 0,1,2,3,4....\n",
    "while cap.isOpened():\n",
    "    ret, frame = cap.read() #frame is our image\n",
    "\n",
    "    #cut down frame to 250X250 pixels\n",
    "    frame = frame[80:370,280:530,:]\n",
    "\n",
    "    #collecting anchors\n",
    "    if cv2.waitKey(1) & 0XFF == ord('a'):\n",
    "        imgname = os.path.join(ANC_PATH, f'{uuid.uuid1()}.jpg')\n",
    "        cv2.imwrite(imgname, frame)\n",
    "        \n",
    "    #collecting positive examples\n",
    "    if cv2.waitKey(1) & 0XFF == ord('p'):\n",
    "        imgname = os.path.join(POS_PATH, f'{uuid.uuid1()}.jpg')\n",
    "        cv2.imwrite(imgname, frame)\n",
    "        \n",
    "    #showing image on screen\n",
    "    cv2.imshow('Image Collection', frame)\n",
    "    \n",
    "    #breaking gracefully\n",
    "    #if you hit q , then WEBCAM closes\n",
    "    if cv2.waitKey(1) & 0XFF == ord('q'): \n",
    "        break\n",
    "        \n",
    "cap.release() #release webcam\n",
    "#Close the image show frame\n",
    "cv2.destroyAllWindows()"
   ]
  },
  {
   "cell_type": "code",
   "execution_count": 8,
   "id": "00a3f1dd-0c54-48f0-9ef1-f5b78fe4856f",
   "metadata": {},
   "outputs": [
    {
     "name": "stderr",
     "output_type": "stream",
     "text": [
      "\n",
      "KeyboardInterrupt\n",
      "\n"
     ]
    },
    {
     "data": {
      "image/png": "[encoded data removed]",
      "text/plain": [
       "<Figure size 640x480 with 1 Axes>"
      ]
     },
     "metadata": {},
     "output_type": "display_data"
    }
   ],
   "source": [
    "plt.imshow(frame[80:370,280:530,:])"
   ]
  },
  {
   "cell_type": "code",
   "execution_count": null,
   "id": "99958bc2-fd00-4a15-a5a5-41ff425b93f5",
   "metadata": {},
   "outputs": [],
   "source": []
  },
  {
   "cell_type": "code",
   "execution_count": null,
   "id": "6ff9ce95-7175-42a3-9c21-d2690a9b2564",
   "metadata": {},
   "outputs": [],
   "source": []
  },
  {
   "cell_type": "code",
   "execution_count": null,
   "id": "8477492a-8378-4e72-8cab-f68e84a9c2ed",
   "metadata": {},
   "outputs": [],
   "source": []
  },
  {
   "cell_type": "code",
   "execution_count": null,
   "id": "d018feda-c4fb-4601-9250-be3a81bdafd5",
   "metadata": {},
   "outputs": [],
   "source": []
  }
 ],
 "metadata": {
  "kernelspec": {
   "display_name": "Python 3 (ipykernel)",
   "language": "python",
   "name": "python3"
  },
  "language_info": {
   "codemirror_mode": {
    "name": "ipython",
    "version": 3
   },
   "file_extension": ".py",
   "mimetype": "text/x-python",
   "name": "python",
   "nbconvert_exporter": "python",
   "pygments_lexer": "ipython3",
   "version": "3.9.19"
  }
 },
 "nbformat": 4,
 "nbformat_minor": 5
}
